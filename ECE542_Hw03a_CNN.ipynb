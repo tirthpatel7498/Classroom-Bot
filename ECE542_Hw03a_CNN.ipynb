{
  "nbformat": 4,
  "nbformat_minor": 0,
  "metadata": {
    "colab": {
      "name": "ECE542 - Hw03a - CNN.ipynb",
      "provenance": [],
      "collapsed_sections": [],
      "include_colab_link": true
    },
    "kernelspec": {
      "name": "python3",
      "display_name": "Python 3"
    },
    "accelerator": "GPU"
  },
  "cells": [
    {
      "cell_type": "markdown",
      "metadata": {
        "id": "view-in-github",
        "colab_type": "text"
      },
      "source": [
        "<a href=\"https://colab.research.google.com/github/tirthpatel7498/Classroom-Bot/blob/master/ECE542_Hw03a_CNN.ipynb\" target=\"_parent\"><img src=\"https://colab.research.google.com/assets/colab-badge.svg\" alt=\"Open In Colab\"/></a>"
      ]
    },
    {
      "cell_type": "markdown",
      "metadata": {
        "id": "-xwitz2wBmmG"
      },
      "source": [
        "# **Exploring Convolutional Neural Networks**\n",
        "\n",
        "In this notebook, we will explore some of the basic tools for regularization and hyper-parameter tuning for neural networks.\n",
        "\n"
      ]
    },
    {
      "cell_type": "code",
      "metadata": {
        "id": "6NcBPjVCdMgK",
        "colab": {
          "base_uri": "https://localhost:8080/",
          "height": 0
        },
        "outputId": "5ca23435-546d-47c2-c04e-f60b8ed47ba3"
      },
      "source": [
        "%tensorflow_version 1.x\n",
        "import numpy as np\n",
        "import matplotlib.pyplot as plt\n",
        "\n",
        "import keras\n",
        "from keras.datasets import cifar10\n",
        "from keras.utils import to_categorical\n",
        "from keras.models import Sequential\n",
        "from keras.layers import Conv2D, MaxPooling2D, Flatten, Dense, Activation, BatchNormalization, Dropout\n",
        "\n",
        "from tensorflow.keras import regularizers\n",
        "\n",
        "from keras.optimizers import SGD, Adam, RMSprop\n",
        "\n",
        "from sklearn.model_selection import GridSearchCV\n",
        "from keras.wrappers.scikit_learn import KerasClassifier"
      ],
      "execution_count": 1,
      "outputs": [
        {
          "output_type": "stream",
          "text": [
            "TensorFlow 1.x selected.\n"
          ],
          "name": "stdout"
        },
        {
          "output_type": "stream",
          "text": [
            "Using TensorFlow backend.\n"
          ],
          "name": "stderr"
        }
      ]
    },
    {
      "cell_type": "markdown",
      "metadata": {
        "id": "X-3WETNQiamR"
      },
      "source": [
        "## Load and Splitting Data\n",
        "\n",
        "We Will make use of the CIFAR10 dataset."
      ]
    },
    {
      "cell_type": "code",
      "metadata": {
        "id": "e10W6I2QbDH6"
      },
      "source": [
        "# Loading train and test dataset\n",
        "(trainingX, trainingY), (testX, testY) = cifar10.load_data()\n",
        "labels = {0:\"airplane\", 1:\"automobile\", 2:\"bird\", 3:\"cat\", 4:\"deer\", 5:\"dog\", 6:\"frog\", 7:\"horse\", 8:\"ship\", 9:\"truck\"}\n",
        "\n",
        "# Keeping 20% for Validation\n",
        "valid_set_pc = 0.2\n",
        "split= int((len(trainingX))*(1-valid_set_pc))\n",
        "\n",
        "validX = trainingX[split:]\n",
        "validY = trainingY[split:]\n",
        "\n",
        "trainX = trainingX[:split]\n",
        "trainY = trainingY[:split]"
      ],
      "execution_count": 2,
      "outputs": []
    },
    {
      "cell_type": "code",
      "metadata": {
        "id": "Jh9Zdh4xOQyU",
        "colab": {
          "base_uri": "https://localhost:8080/",
          "height": 283
        },
        "outputId": "9e270c43-bd46-4d61-81fb-5a41fc28ba35"
      },
      "source": [
        "# Showing a samples from the dataset\n",
        "sampleID = 100\n",
        "plt.imshow(trainX[sampleID])\n",
        "print(labels[trainY[sampleID][0]])"
      ],
      "execution_count": 3,
      "outputs": [
        {
          "output_type": "stream",
          "text": [
            "ship\n"
          ],
          "name": "stdout"
        },
        {
          "output_type": "display_data",
          "data": {
            "image/png": "[encoded data removed]",
            "text/plain": [
              "<Figure size 432x288 with 1 Axes>"
            ]
          },
          "metadata": {
            "tags": [],
            "needs_background": "light"
          }
        }
      ]
    },
    {
      "cell_type": "code",
      "metadata": {
        "id": "ds8L26hSbsfr"
      },
      "source": [
        "# Convert from integers to floats\n",
        "trainingX = trainingX.astype('float32')\n",
        "trainX = trainX.astype('float32')\n",
        "validX = validX.astype('float32')\n",
        "testX  = testX.astype('float32')\n",
        "\n",
        "# Normalize to range 0-1\n",
        "trainingX = trainingX / 255.0\n",
        "trainX = trainX / 255.0\n",
        "validX = validX / 255.0\n",
        "testX  = testX / 255.0\n",
        "\n",
        "# One-hot encoding of outputs\n",
        "trainingY = to_categorical(trainingY)\n",
        "trainY = to_categorical(trainY)\n",
        "validY = to_categorical(validY)\n",
        "testY  = to_categorical(testY)"
      ],
      "execution_count": 4,
      "outputs": []
    },
    {
      "cell_type": "markdown",
      "metadata": {
        "id": "Oejdojf2E99q"
      },
      "source": [
        "## Training a Base CNN Model"
      ]
    },
    {
      "cell_type": "code",
      "metadata": {
        "id": "2HOohn5l4RoF",
        "colab": {
          "base_uri": "https://localhost:8080/",
          "height": 0
        },
        "outputId": "62c8db5b-e51a-45e0-c12b-f33575d4bcff"
      },
      "source": [
        "# Defining Base CNN Model\n",
        "def define_base_model():\n",
        "\tmodel = Sequential()\n",
        " \n",
        "\tmodel.add(Conv2D(256, (3, 3), activation='relu',  padding='same', input_shape=(32, 32, 3)))\n",
        "\tmodel.add(MaxPooling2D((2, 2)))\n",
        " \n",
        "\tmodel.add(Conv2D(256, (3, 3), activation='relu',  padding='same'))\n",
        "\tmodel.add(MaxPooling2D((2, 2)))\n",
        " \n",
        "\tmodel.add(Conv2D(256, (3, 3), activation='relu',  padding='same'))\n",
        "\tmodel.add(MaxPooling2D((2, 2)))\n",
        " \n",
        "\tmodel.add(Flatten())\n",
        "\tmodel.add(Dense(1024, activation='relu'))\n",
        "\tmodel.add(Dense(10, activation='softmax'))\n",
        " \n",
        "\treturn model\n",
        "\n",
        "# Creating an instance\n",
        "base_model = define_base_model()\n",
        "base_model.summary()\n",
        "base_model.compile(optimizer=SGD(), loss='categorical_crossentropy', metrics=['accuracy'])"
      ],
      "execution_count": 5,
      "outputs": [
        {
          "output_type": "stream",
          "text": [
            "WARNING:tensorflow:From /tensorflow-1.15.2/python3.7/tensorflow_core/python/ops/resource_variable_ops.py:1630: calling BaseResourceVariable.__init__ (from tensorflow.python.ops.resource_variable_ops) with constraint is deprecated and will be removed in a future version.\n",
            "Instructions for updating:\n",
            "If using Keras pass *_constraint arguments to layers.\n",
            "WARNING:tensorflow:From /tensorflow-1.15.2/python3.7/keras/backend/tensorflow_backend.py:4070: The name tf.nn.max_pool is deprecated. Please use tf.nn.max_pool2d instead.\n",
            "\n",
            "Model: \"sequential_1\"\n",
            "_________________________________________________________________\n",
            "Layer (type)                 Output Shape              Param #   \n",
            "=================================================================\n",
            "conv2d_1 (Conv2D)            (None, 32, 32, 256)       7168      \n",
            "_________________________________________________________________\n",
            "max_pooling2d_1 (MaxPooling2 (None, 16, 16, 256)       0         \n",
            "_________________________________________________________________\n",
            "conv2d_2 (Conv2D)            (None, 16, 16, 256)       590080    \n",
            "_________________________________________________________________\n",
            "max_pooling2d_2 (MaxPooling2 (None, 8, 8, 256)         0         \n",
            "_________________________________________________________________\n",
            "conv2d_3 (Conv2D)            (None, 8, 8, 256)         590080    \n",
            "_________________________________________________________________\n",
            "max_pooling2d_3 (MaxPooling2 (None, 4, 4, 256)         0         \n",
            "_________________________________________________________________\n",
            "flatten_1 (Flatten)          (None, 4096)              0         \n",
            "_________________________________________________________________\n",
            "dense_1 (Dense)              (None, 1024)              4195328   \n",
            "_________________________________________________________________\n",
            "dense_2 (Dense)              (None, 10)                10250     \n",
            "=================================================================\n",
            "Total params: 5,392,906\n",
            "Trainable params: 5,392,906\n",
            "Non-trainable params: 0\n",
            "_________________________________________________________________\n"
          ],
          "name": "stdout"
        }
      ]
    },
    {
      "cell_type": "code",
      "metadata": {
        "id": "50IbgnrtcEf-",
        "colab": {
          "base_uri": "https://localhost:8080/",
          "height": 0
        },
        "outputId": "f9b9b225-f679-4a28-93cd-89fd9e193f16"
      },
      "source": [
        "# Training base model\n",
        "base_history = base_model.fit(trainX, trainY, epochs=15, validation_data=(validX, validY), verbose=1)"
      ],
      "execution_count": 6,
      "outputs": [
        {
          "output_type": "stream",
          "text": [
            "WARNING:tensorflow:From /tensorflow-1.15.2/python3.7/keras/backend/tensorflow_backend.py:422: The name tf.global_variables is deprecated. Please use tf.compat.v1.global_variables instead.\n",
            "\n",
            "Train on 40000 samples, validate on 10000 samples\n",
            "Epoch 1/15\n",
            "40000/40000 [==============================] - 16s 395us/step - loss: 2.0384 - accuracy: 0.2619 - val_loss: 1.7989 - val_accuracy: 0.3355\n",
            "Epoch 2/15\n",
            "40000/40000 [==============================] - 14s 355us/step - loss: 1.6542 - accuracy: 0.4083 - val_loss: 1.5246 - val_accuracy: 0.4614\n",
            "Epoch 3/15\n",
            "40000/40000 [==============================] - 14s 353us/step - loss: 1.4551 - accuracy: 0.4774 - val_loss: 1.4018 - val_accuracy: 0.4979\n",
            "Epoch 4/15\n",
            "40000/40000 [==============================] - 14s 352us/step - loss: 1.3318 - accuracy: 0.5260 - val_loss: 1.3283 - val_accuracy: 0.5367\n",
            "Epoch 5/15\n",
            "40000/40000 [==============================] - 14s 352us/step - loss: 1.2253 - accuracy: 0.5670 - val_loss: 1.2083 - val_accuracy: 0.5720\n",
            "Epoch 6/15\n",
            "40000/40000 [==============================] - 14s 351us/step - loss: 1.1263 - accuracy: 0.6075 - val_loss: 1.1188 - val_accuracy: 0.6078\n",
            "Epoch 7/15\n",
            "40000/40000 [==============================] - 14s 352us/step - loss: 1.0406 - accuracy: 0.6388 - val_loss: 1.0568 - val_accuracy: 0.6377\n",
            "Epoch 8/15\n",
            "40000/40000 [==============================] - 14s 352us/step - loss: 0.9630 - accuracy: 0.6647 - val_loss: 1.0754 - val_accuracy: 0.6238\n",
            "Epoch 9/15\n",
            "40000/40000 [==============================] - 14s 353us/step - loss: 0.8925 - accuracy: 0.6908 - val_loss: 0.9842 - val_accuracy: 0.6609\n",
            "Epoch 10/15\n",
            "40000/40000 [==============================] - 14s 353us/step - loss: 0.8301 - accuracy: 0.7150 - val_loss: 0.9468 - val_accuracy: 0.6737\n",
            "Epoch 11/15\n",
            "40000/40000 [==============================] - 14s 352us/step - loss: 0.7669 - accuracy: 0.7356 - val_loss: 0.9345 - val_accuracy: 0.6834\n",
            "Epoch 12/15\n",
            "40000/40000 [==============================] - 14s 355us/step - loss: 0.7033 - accuracy: 0.7589 - val_loss: 0.9243 - val_accuracy: 0.6883\n",
            "Epoch 13/15\n",
            "40000/40000 [==============================] - 14s 352us/step - loss: 0.6448 - accuracy: 0.7788 - val_loss: 0.8966 - val_accuracy: 0.7002\n",
            "Epoch 14/15\n",
            "40000/40000 [==============================] - 14s 351us/step - loss: 0.5869 - accuracy: 0.7968 - val_loss: 0.8599 - val_accuracy: 0.7171\n",
            "Epoch 15/15\n",
            "40000/40000 [==============================] - 14s 352us/step - loss: 0.5236 - accuracy: 0.8194 - val_loss: 0.8752 - val_accuracy: 0.7126\n"
          ],
          "name": "stdout"
        }
      ]
    },
    {
      "cell_type": "code",
      "metadata": {
        "id": "psvubBDOsJYH",
        "colab": {
          "base_uri": "https://localhost:8080/",
          "height": 573
        },
        "outputId": "ffcb4d6b-e8ca-4643-e78c-e257a503a866"
      },
      "source": [
        "# Defining a function for plotting training and validation learning curves\n",
        "def plot_history(history):\n",
        "\t  # plot loss\n",
        "    plt.title('Loss')\n",
        "    plt.plot(history.history['loss'], color='blue', label='train')\n",
        "    plt.plot(history.history['val_loss'], color='red', label='test')\n",
        "    plt.ylabel('Loss')\n",
        "    plt.xlabel('Epoch')\n",
        "    plt.legend(['Train', 'Validation'])\n",
        "    plt.show()\n",
        "    \n",
        "    # plot accuracy\n",
        "    plt.title('Accuracy')\n",
        "    plt.plot(history.history['accuracy'], color='blue', label='train')\n",
        "    plt.plot(history.history['val_accuracy'], color='red', label='test')\n",
        "    plt.ylabel('Accuracy')\n",
        "    plt.xlabel('Epoch')\n",
        "    plt.legend(['Train', 'Validation'])\n",
        "    plt.show()\n",
        "  \n",
        "plot_history(base_history)"
      ],
      "execution_count": 7,
      "outputs": [
        {
          "output_type": "display_data",
          "data": {
            "image/png": "[encoded data removed]",
            "text/plain": [
              "<Figure size 432x288 with 1 Axes>"
            ]
          },
          "metadata": {
            "tags": [],
            "needs_background": "light"
          }
        },
        {
          "output_type": "display_data",
          "data": {
            "image/png": "[encoded data removed]",
            "text/plain": [
              "<Figure size 432x288 with 1 Axes>"
            ]
          },
          "metadata": {
            "tags": [],
            "needs_background": "light"
          }
        }
      ]
    },
    {
      "cell_type": "markdown",
      "metadata": {
        "id": "Qrtm3IE2jyGN"
      },
      "source": [
        "# **[Task 1] Comparing Optimizers**\n",
        "\n",
        "The goal of of this section is to compare the performance of various optimizers: SGD with momentum, RMS Prop and Adam. Make sure you complete the following steps:\n",
        "\n",
        "1. Train the network with SGB with momentum\n",
        "2. Train the network with RMS Prop\n",
        "3. Train the network with Adam\n",
        "4. Create two plots showing accuracy for the training and validation sets\n",
        "5. Comment on the performance of each optimizer. Which one had the steepest learning curve? Which one gave the final best performance? \n",
        "\n",
        "\n"
      ]
    },
    {
      "cell_type": "code",
      "metadata": {
        "id": "WAImdmh5kCQ2",
        "colab": {
          "base_uri": "https://localhost:8080/",
          "height": 1542
        },
        "outputId": "9163507e-6b7c-4bac-c077-f96024f4f454"
      },
      "source": [
        "# TODO - Training model with momentum \n",
        "momentum_model = define_base_model()\n",
        "momentum_model.summary()\n",
        "momentum_model.compile(optimizer=SGD(learning_rate=0.01, momentum=0.9), loss='categorical_crossentropy', metrics=['accuracy'])\n",
        "\n",
        "momentum_history = momentum_model.fit(trainX, trainY, epochs=15, validation_data=(validX, validY), verbose=1)\n",
        "\n",
        "plot_history(momentum_history)"
      ],
      "execution_count": 8,
      "outputs": [
        {
          "output_type": "stream",
          "text": [
            "Model: \"sequential_2\"\n",
            "_________________________________________________________________\n",
            "Layer (type)                 Output Shape              Param #   \n",
            "=================================================================\n",
            "conv2d_4 (Conv2D)            (None, 32, 32, 256)       7168      \n",
            "_________________________________________________________________\n",
            "max_pooling2d_4 (MaxPooling2 (None, 16, 16, 256)       0         \n",
            "_________________________________________________________________\n",
            "conv2d_5 (Conv2D)            (None, 16, 16, 256)       590080    \n",
            "_________________________________________________________________\n",
            "max_pooling2d_5 (MaxPooling2 (None, 8, 8, 256)         0         \n",
            "_________________________________________________________________\n",
            "conv2d_6 (Conv2D)            (None, 8, 8, 256)         590080    \n",
            "_________________________________________________________________\n",
            "max_pooling2d_6 (MaxPooling2 (None, 4, 4, 256)         0         \n",
            "_________________________________________________________________\n",
            "flatten_2 (Flatten)          (None, 4096)              0         \n",
            "_________________________________________________________________\n",
            "dense_3 (Dense)              (None, 1024)              4195328   \n",
            "_________________________________________________________________\n",
            "dense_4 (Dense)              (None, 10)                10250     \n",
            "=================================================================\n",
            "Total params: 5,392,906\n",
            "Trainable params: 5,392,906\n",
            "Non-trainable params: 0\n",
            "_________________________________________________________________\n",
            "Train on 40000 samples, validate on 10000 samples\n",
            "Epoch 1/15\n",
            "40000/40000 [==============================] - 14s 354us/step - loss: 1.6408 - accuracy: 0.4034 - val_loss: 1.3033 - val_accuracy: 0.5318\n",
            "Epoch 2/15\n",
            "40000/40000 [==============================] - 14s 352us/step - loss: 1.1299 - accuracy: 0.5975 - val_loss: 1.0005 - val_accuracy: 0.6512\n",
            "Epoch 3/15\n",
            "40000/40000 [==============================] - 14s 350us/step - loss: 0.8750 - accuracy: 0.6935 - val_loss: 0.8490 - val_accuracy: 0.7058\n",
            "Epoch 4/15\n",
            "40000/40000 [==============================] - 14s 351us/step - loss: 0.6838 - accuracy: 0.7597 - val_loss: 0.8197 - val_accuracy: 0.7184\n",
            "Epoch 5/15\n",
            "40000/40000 [==============================] - 14s 351us/step - loss: 0.5177 - accuracy: 0.8184 - val_loss: 0.8208 - val_accuracy: 0.7256\n",
            "Epoch 6/15\n",
            "40000/40000 [==============================] - 14s 351us/step - loss: 0.3619 - accuracy: 0.8735 - val_loss: 0.8812 - val_accuracy: 0.7336\n",
            "Epoch 7/15\n",
            "40000/40000 [==============================] - 14s 352us/step - loss: 0.2384 - accuracy: 0.9164 - val_loss: 1.0189 - val_accuracy: 0.7305\n",
            "Epoch 8/15\n",
            "40000/40000 [==============================] - 14s 350us/step - loss: 0.1630 - accuracy: 0.9438 - val_loss: 1.1441 - val_accuracy: 0.7176\n",
            "Epoch 9/15\n",
            "40000/40000 [==============================] - 14s 350us/step - loss: 0.1231 - accuracy: 0.9579 - val_loss: 1.2035 - val_accuracy: 0.7478\n",
            "Epoch 10/15\n",
            "40000/40000 [==============================] - 14s 352us/step - loss: 0.0902 - accuracy: 0.9696 - val_loss: 1.2250 - val_accuracy: 0.7437\n",
            "Epoch 11/15\n",
            "40000/40000 [==============================] - 14s 354us/step - loss: 0.0809 - accuracy: 0.9731 - val_loss: 1.3014 - val_accuracy: 0.7397\n",
            "Epoch 12/15\n",
            "40000/40000 [==============================] - 14s 351us/step - loss: 0.0595 - accuracy: 0.9806 - val_loss: 1.4993 - val_accuracy: 0.7389\n",
            "Epoch 13/15\n",
            "40000/40000 [==============================] - 14s 351us/step - loss: 0.0549 - accuracy: 0.9814 - val_loss: 1.4500 - val_accuracy: 0.7382\n",
            "Epoch 14/15\n",
            "40000/40000 [==============================] - 14s 350us/step - loss: 0.0579 - accuracy: 0.9812 - val_loss: 1.6210 - val_accuracy: 0.7394\n",
            "Epoch 15/15\n",
            "40000/40000 [==============================] - 14s 351us/step - loss: 0.0447 - accuracy: 0.9859 - val_loss: 1.5583 - val_accuracy: 0.7380\n"
          ],
          "name": "stdout"
        },
        {
          "output_type": "display_data",
          "data": {
            "image/png": "[encoded data removed]",
            "text/plain": [
              "<Figure size 432x288 with 1 Axes>"
            ]
          },
          "metadata": {
            "tags": [],
            "needs_background": "light"
          }
        },
        {
          "output_type": "display_data",
          "data": {
            "image/png": "[encoded data removed]",
            "text/plain": [
              "<Figure size 432x288 with 1 Axes>"
            ]
          },
          "metadata": {
            "tags": [],
            "needs_background": "light"
          }
        }
      ]
    },
    {
      "cell_type": "code",
      "metadata": {
        "id": "Cyi0YBgz2l1w",
        "colab": {
          "base_uri": "https://localhost:8080/",
          "height": 1542
        },
        "outputId": "62058be0-489d-4633-8a75-0a672a55348f"
      },
      "source": [
        "# TODO - Training model with RMS Prop\n",
        "rms_model = define_base_model()\n",
        "rms_model.summary()\n",
        "rms_model.compile(optimizer=RMSprop(learning_rate=0.001), loss='categorical_crossentropy', metrics=['accuracy'])\n",
        "\n",
        "rms_history = rms_model.fit(trainX, trainY, epochs=15, validation_data=(validX, validY), verbose=1)\n",
        "\n",
        "plot_history(rms_history)"
      ],
      "execution_count": 9,
      "outputs": [
        {
          "output_type": "stream",
          "text": [
            "Model: \"sequential_3\"\n",
            "_________________________________________________________________\n",
            "Layer (type)                 Output Shape              Param #   \n",
            "=================================================================\n",
            "conv2d_7 (Conv2D)            (None, 32, 32, 256)       7168      \n",
            "_________________________________________________________________\n",
            "max_pooling2d_7 (MaxPooling2 (None, 16, 16, 256)       0         \n",
            "_________________________________________________________________\n",
            "conv2d_8 (Conv2D)            (None, 16, 16, 256)       590080    \n",
            "_________________________________________________________________\n",
            "max_pooling2d_8 (MaxPooling2 (None, 8, 8, 256)         0         \n",
            "_________________________________________________________________\n",
            "conv2d_9 (Conv2D)            (None, 8, 8, 256)         590080    \n",
            "_________________________________________________________________\n",
            "max_pooling2d_9 (MaxPooling2 (None, 4, 4, 256)         0         \n",
            "_________________________________________________________________\n",
            "flatten_3 (Flatten)          (None, 4096)              0         \n",
            "_________________________________________________________________\n",
            "dense_5 (Dense)              (None, 1024)              4195328   \n",
            "_________________________________________________________________\n",
            "dense_6 (Dense)              (None, 10)                10250     \n",
            "=================================================================\n",
            "Total params: 5,392,906\n",
            "Trainable params: 5,392,906\n",
            "Non-trainable params: 0\n",
            "_________________________________________________________________\n",
            "Train on 40000 samples, validate on 10000 samples\n",
            "Epoch 1/15\n",
            "40000/40000 [==============================] - 16s 403us/step - loss: 1.5107 - accuracy: 0.4642 - val_loss: 1.0882 - val_accuracy: 0.6257\n",
            "Epoch 2/15\n",
            "40000/40000 [==============================] - 16s 400us/step - loss: 1.0095 - accuracy: 0.6525 - val_loss: 0.9578 - val_accuracy: 0.6668\n",
            "Epoch 3/15\n",
            "40000/40000 [==============================] - 16s 400us/step - loss: 0.8538 - accuracy: 0.7096 - val_loss: 1.0450 - val_accuracy: 0.6497\n",
            "Epoch 4/15\n",
            "40000/40000 [==============================] - 16s 397us/step - loss: 0.7839 - accuracy: 0.7379 - val_loss: 1.1312 - val_accuracy: 0.7016\n",
            "Epoch 5/15\n",
            "40000/40000 [==============================] - 16s 397us/step - loss: 0.7387 - accuracy: 0.7568 - val_loss: 1.1682 - val_accuracy: 0.6708\n",
            "Epoch 6/15\n",
            "40000/40000 [==============================] - 16s 397us/step - loss: 0.7092 - accuracy: 0.7675 - val_loss: 0.8877 - val_accuracy: 0.7095\n",
            "Epoch 7/15\n",
            "40000/40000 [==============================] - 16s 397us/step - loss: 0.6835 - accuracy: 0.7780 - val_loss: 0.9343 - val_accuracy: 0.6887\n",
            "Epoch 8/15\n",
            "40000/40000 [==============================] - 16s 398us/step - loss: 0.6664 - accuracy: 0.7848 - val_loss: 1.0416 - val_accuracy: 0.7134\n",
            "Epoch 9/15\n",
            "40000/40000 [==============================] - 16s 398us/step - loss: 0.6483 - accuracy: 0.7916 - val_loss: 1.0058 - val_accuracy: 0.7008\n",
            "Epoch 10/15\n",
            "40000/40000 [==============================] - 16s 398us/step - loss: 0.6314 - accuracy: 0.7982 - val_loss: 1.2281 - val_accuracy: 0.6419\n",
            "Epoch 11/15\n",
            "40000/40000 [==============================] - 16s 398us/step - loss: 0.6269 - accuracy: 0.8011 - val_loss: 1.0272 - val_accuracy: 0.6782\n",
            "Epoch 12/15\n",
            "40000/40000 [==============================] - 16s 397us/step - loss: 0.6304 - accuracy: 0.8022 - val_loss: 1.1322 - val_accuracy: 0.6708\n",
            "Epoch 13/15\n",
            "40000/40000 [==============================] - 16s 397us/step - loss: 0.6211 - accuracy: 0.8057 - val_loss: 1.0415 - val_accuracy: 0.6978\n",
            "Epoch 14/15\n",
            "40000/40000 [==============================] - 16s 398us/step - loss: 0.6268 - accuracy: 0.8085 - val_loss: 1.1544 - val_accuracy: 0.7020\n",
            "Epoch 15/15\n",
            "40000/40000 [==============================] - 16s 399us/step - loss: 0.6180 - accuracy: 0.8119 - val_loss: 1.2569 - val_accuracy: 0.7206\n"
          ],
          "name": "stdout"
        },
        {
          "output_type": "display_data",
          "data": {
            "image/png": "[encoded data removed]",
            "text/plain": [
              "<Figure size 432x288 with 1 Axes>"
            ]
          },
          "metadata": {
            "tags": [],
            "needs_background": "light"
          }
        },
        {
          "output_type": "display_data",
          "data": {
            "image/png": "[encoded data removed]",
            "text/plain": [
              "<Figure size 432x288 with 1 Axes>"
            ]
          },
          "metadata": {
            "tags": [],
            "needs_background": "light"
          }
        }
      ]
    },
    {
      "cell_type": "code",
      "metadata": {
        "id": "xHWhlGUYZ68s",
        "colab": {
          "base_uri": "https://localhost:8080/",
          "height": 1542
        },
        "outputId": "d217f50d-8534-493b-a136-405c3d66fdd9"
      },
      "source": [
        "# TODO - Training model with Adam\n",
        "adam_model = define_base_model()\n",
        "adam_model.summary()\n",
        "adam_model.compile(optimizer=Adam(learning_rate=0.001), loss='categorical_crossentropy', metrics=['accuracy'])\n",
        "\n",
        "adam_history = adam_model.fit(trainX, trainY, epochs=15, validation_data=(validX, validY), verbose=1)\n",
        "\n",
        "plot_history(adam_history)"
      ],
      "execution_count": 10,
      "outputs": [
        {
          "output_type": "stream",
          "text": [
            "Model: \"sequential_4\"\n",
            "_________________________________________________________________\n",
            "Layer (type)                 Output Shape              Param #   \n",
            "=================================================================\n",
            "conv2d_10 (Conv2D)           (None, 32, 32, 256)       7168      \n",
            "_________________________________________________________________\n",
            "max_pooling2d_10 (MaxPooling (None, 16, 16, 256)       0         \n",
            "_________________________________________________________________\n",
            "conv2d_11 (Conv2D)           (None, 16, 16, 256)       590080    \n",
            "_________________________________________________________________\n",
            "max_pooling2d_11 (MaxPooling (None, 8, 8, 256)         0         \n",
            "_________________________________________________________________\n",
            "conv2d_12 (Conv2D)           (None, 8, 8, 256)         590080    \n",
            "_________________________________________________________________\n",
            "max_pooling2d_12 (MaxPooling (None, 4, 4, 256)         0         \n",
            "_________________________________________________________________\n",
            "flatten_4 (Flatten)          (None, 4096)              0         \n",
            "_________________________________________________________________\n",
            "dense_7 (Dense)              (None, 1024)              4195328   \n",
            "_________________________________________________________________\n",
            "dense_8 (Dense)              (None, 10)                10250     \n",
            "=================================================================\n",
            "Total params: 5,392,906\n",
            "Trainable params: 5,392,906\n",
            "Non-trainable params: 0\n",
            "_________________________________________________________________\n",
            "Train on 40000 samples, validate on 10000 samples\n",
            "Epoch 1/15\n",
            "40000/40000 [==============================] - 17s 432us/step - loss: 1.4566 - accuracy: 0.4688 - val_loss: 1.1737 - val_accuracy: 0.5821\n",
            "Epoch 2/15\n",
            "40000/40000 [==============================] - 17s 426us/step - loss: 1.0186 - accuracy: 0.6396 - val_loss: 0.9547 - val_accuracy: 0.6631\n",
            "Epoch 3/15\n",
            "40000/40000 [==============================] - 17s 426us/step - loss: 0.8216 - accuracy: 0.7109 - val_loss: 0.9415 - val_accuracy: 0.6681\n",
            "Epoch 4/15\n",
            "40000/40000 [==============================] - 17s 425us/step - loss: 0.6588 - accuracy: 0.7695 - val_loss: 0.8299 - val_accuracy: 0.7213\n",
            "Epoch 5/15\n",
            "40000/40000 [==============================] - 17s 425us/step - loss: 0.5205 - accuracy: 0.8160 - val_loss: 0.8323 - val_accuracy: 0.7259\n",
            "Epoch 6/15\n",
            "40000/40000 [==============================] - 17s 424us/step - loss: 0.3903 - accuracy: 0.8636 - val_loss: 0.8847 - val_accuracy: 0.7349\n",
            "Epoch 7/15\n",
            "40000/40000 [==============================] - 17s 427us/step - loss: 0.2844 - accuracy: 0.9000 - val_loss: 1.0513 - val_accuracy: 0.7264\n",
            "Epoch 8/15\n",
            "40000/40000 [==============================] - 17s 425us/step - loss: 0.2100 - accuracy: 0.9273 - val_loss: 1.2323 - val_accuracy: 0.7153\n",
            "Epoch 9/15\n",
            "40000/40000 [==============================] - 17s 424us/step - loss: 0.1623 - accuracy: 0.9420 - val_loss: 1.2362 - val_accuracy: 0.7288\n",
            "Epoch 10/15\n",
            "40000/40000 [==============================] - 17s 423us/step - loss: 0.1337 - accuracy: 0.9539 - val_loss: 1.3444 - val_accuracy: 0.7326\n",
            "Epoch 11/15\n",
            "40000/40000 [==============================] - 17s 425us/step - loss: 0.1242 - accuracy: 0.9575 - val_loss: 1.5373 - val_accuracy: 0.7249\n",
            "Epoch 12/15\n",
            "40000/40000 [==============================] - 17s 426us/step - loss: 0.1123 - accuracy: 0.9621 - val_loss: 1.5807 - val_accuracy: 0.7166\n",
            "Epoch 13/15\n",
            "40000/40000 [==============================] - 17s 427us/step - loss: 0.0920 - accuracy: 0.9702 - val_loss: 1.7157 - val_accuracy: 0.7327\n",
            "Epoch 14/15\n",
            "40000/40000 [==============================] - 17s 425us/step - loss: 0.0964 - accuracy: 0.9681 - val_loss: 1.8597 - val_accuracy: 0.7183\n",
            "Epoch 15/15\n",
            "40000/40000 [==============================] - 17s 426us/step - loss: 0.0976 - accuracy: 0.9676 - val_loss: 1.8058 - val_accuracy: 0.7246\n"
          ],
          "name": "stdout"
        },
        {
          "output_type": "display_data",
          "data": {
            "image/png": "[encoded data removed]",
            "text/plain": [
              "<Figure size 432x288 with 1 Axes>"
            ]
          },
          "metadata": {
            "tags": [],
            "needs_background": "light"
          }
        },
        {
          "output_type": "display_data",
          "data": {
            "image/png": "[encoded data removed]",
            "text/plain": [
              "<Figure size 432x288 with 1 Axes>"
            ]
          },
          "metadata": {
            "tags": [],
            "needs_background": "light"
          }
        }
      ]
    },
    {
      "cell_type": "code",
      "metadata": {
        "id": "hRXknd9oTt4o",
        "colab": {
          "base_uri": "https://localhost:8080/",
          "height": 281
        },
        "outputId": "a6c7aa4e-6e09-4048-d0fe-966b89126c76"
      },
      "source": [
        "# TODO - Plotting training accuracy\n",
        "plt.title('Training Accuracy')\n",
        "plt.plot(base_history.history['accuracy'], label='base train')\n",
        "plt.plot(momentum_history.history['accuracy'], label='momentum train')\n",
        "plt.plot(rms_history.history['accuracy'], label='rms train')\n",
        "plt.plot(adam_history.history['accuracy'], label='adam train')\n",
        "plt.legend()\n",
        "plt.show()"
      ],
      "execution_count": 13,
      "outputs": [
        {
          "output_type": "display_data",
          "data": {
            "image/png": "[encoded data removed]",
            "text/plain": [
              "<Figure size 432x288 with 1 Axes>"
            ]
          },
          "metadata": {
            "tags": [],
            "needs_background": "light"
          }
        }
      ]
    },
    {
      "cell_type": "markdown",
      "metadata": {
        "id": "8vBjDkEFZSyH"
      },
      "source": [
        "[TODO - Add your observations]\n",
        "\n"
      ]
    },
    {
      "cell_type": "markdown",
      "metadata": {
        "id": "7JSTT5hZk4pX"
      },
      "source": [
        "# **[Task 2] Applying Standard Regularization**\n",
        "\n",
        "The goal of this section is to compare the effect of different normalization approaches including Batch normalization and Dropout. Make sure to complete the following steps:\n",
        "\n",
        "1. Create a new model by adding a batch normalization layer after each convolutional layer and between the dense layers of the base model. Train it using the Adam optimizer.\n",
        "2. Create a new model by adding dropout after each convolutional layer and between the dense layers of the base model with a rate equal to $0.2$. Train it using the Adam optimizer.\n",
        "3. Create two plots showing accuracy for the training and validation sets comparing the regularized versions against the base model trained with the Adam optimizer.\n",
        "4. Comment on the performance of each model. Which one had the steepest learning curve? Which one gave the final best performance? \n",
        "\n",
        "\n"
      ]
    },
    {
      "cell_type": "code",
      "metadata": {
        "id": "dkfTDI205hGq",
        "colab": {
          "base_uri": "https://localhost:8080/",
          "height": 0
        },
        "outputId": "31affe6d-0876-4bc3-887c-d68cbedcb5b1"
      },
      "source": [
        "# TODO - Defining Batch Normalization model and training it\n",
        "def define_base_model_BN():\n",
        "  model = Sequential()\n",
        "  model.add(Conv2D(256, (3, 3), activation='relu',  padding='same', input_shape=(32, 32, 3)))\n",
        "  model.add(BatchNormalization())\n",
        "  model.add(MaxPooling2D((2, 2)))\n",
        "  model.add(Conv2D(256, (3, 3), activation='relu',  padding='same'))\n",
        "  model.add(BatchNormalization())\n",
        "  model.add(MaxPooling2D((2, 2)))\n",
        "  model.add(Conv2D(256, (3, 3), activation='relu',  padding='same'))\n",
        "  model.add(BatchNormalization())\n",
        "  model.add(MaxPooling2D((2, 2)))\n",
        "  model.add(Flatten())\n",
        "  model.add(Dense(1024, activation='relu'))\n",
        "  model.add(BatchNormalization())\n",
        "  model.add(Dense(10, activation='softmax'))\n",
        "  return model\n",
        "\n",
        "\n",
        "adam_model_BN = define_base_model_BN()\n",
        "adam_model_BN.summary()\n",
        "adam_model_BN.compile(optimizer=Adam(learning_rate=0.001), loss='categorical_crossentropy', metrics=['accuracy'])\n",
        "\n",
        "adam_history_BN = adam_model_BN.fit(trainX, trainY, epochs=15, validation_data=(validX, validY), verbose=1)\n",
        "\n"
      ],
      "execution_count": 16,
      "outputs": [
        {
          "output_type": "stream",
          "text": [
            "Model: \"sequential_5\"\n",
            "_________________________________________________________________\n",
            "Layer (type)                 Output Shape              Param #   \n",
            "=================================================================\n",
            "conv2d_13 (Conv2D)           (None, 32, 32, 256)       7168      \n",
            "_________________________________________________________________\n",
            "batch_normalization_1 (Batch (None, 32, 32, 256)       1024      \n",
            "_________________________________________________________________\n",
            "max_pooling2d_13 (MaxPooling (None, 16, 16, 256)       0         \n",
            "_________________________________________________________________\n",
            "conv2d_14 (Conv2D)           (None, 16, 16, 256)       590080    \n",
            "_________________________________________________________________\n",
            "batch_normalization_2 (Batch (None, 16, 16, 256)       1024      \n",
            "_________________________________________________________________\n",
            "max_pooling2d_14 (MaxPooling (None, 8, 8, 256)         0         \n",
            "_________________________________________________________________\n",
            "conv2d_15 (Conv2D)           (None, 8, 8, 256)         590080    \n",
            "_________________________________________________________________\n",
            "batch_normalization_3 (Batch (None, 8, 8, 256)         1024      \n",
            "_________________________________________________________________\n",
            "max_pooling2d_15 (MaxPooling (None, 4, 4, 256)         0         \n",
            "_________________________________________________________________\n",
            "flatten_5 (Flatten)          (None, 4096)              0         \n",
            "_________________________________________________________________\n",
            "dense_9 (Dense)              (None, 1024)              4195328   \n",
            "_________________________________________________________________\n",
            "batch_normalization_4 (Batch (None, 1024)              4096      \n",
            "_________________________________________________________________\n",
            "dense_10 (Dense)             (None, 10)                10250     \n",
            "=================================================================\n",
            "Total params: 5,400,074\n",
            "Trainable params: 5,396,490\n",
            "Non-trainable params: 3,584\n",
            "_________________________________________________________________\n",
            "Train on 40000 samples, validate on 10000 samples\n",
            "Epoch 1/15\n",
            "40000/40000 [==============================] - 24s 603us/step - loss: 1.4004 - accuracy: 0.5304 - val_loss: 1.3695 - val_accuracy: 0.5386\n",
            "Epoch 2/15\n",
            "40000/40000 [==============================] - 23s 583us/step - loss: 0.9236 - accuracy: 0.6822 - val_loss: 1.2589 - val_accuracy: 0.5682\n",
            "Epoch 3/15\n",
            "40000/40000 [==============================] - 23s 576us/step - loss: 0.7230 - accuracy: 0.7499 - val_loss: 0.9437 - val_accuracy: 0.6823\n",
            "Epoch 4/15\n",
            "40000/40000 [==============================] - 23s 577us/step - loss: 0.5754 - accuracy: 0.8011 - val_loss: 1.0434 - val_accuracy: 0.6894\n",
            "Epoch 5/15\n",
            "40000/40000 [==============================] - 23s 579us/step - loss: 0.4431 - accuracy: 0.8463 - val_loss: 0.8619 - val_accuracy: 0.7278\n",
            "Epoch 6/15\n",
            "40000/40000 [==============================] - 23s 577us/step - loss: 0.3304 - accuracy: 0.8852 - val_loss: 1.2117 - val_accuracy: 0.6496\n",
            "Epoch 7/15\n",
            "40000/40000 [==============================] - 23s 577us/step - loss: 0.2521 - accuracy: 0.9116 - val_loss: 2.3232 - val_accuracy: 0.5469\n",
            "Epoch 8/15\n",
            "40000/40000 [==============================] - 23s 578us/step - loss: 0.1944 - accuracy: 0.9331 - val_loss: 0.9100 - val_accuracy: 0.7543\n",
            "Epoch 9/15\n",
            "40000/40000 [==============================] - 23s 578us/step - loss: 0.1411 - accuracy: 0.9513 - val_loss: 1.5433 - val_accuracy: 0.6721\n",
            "Epoch 10/15\n",
            "40000/40000 [==============================] - 23s 577us/step - loss: 0.1724 - accuracy: 0.9406 - val_loss: 1.0972 - val_accuracy: 0.7484\n",
            "Epoch 11/15\n",
            "40000/40000 [==============================] - 23s 576us/step - loss: 0.1160 - accuracy: 0.9592 - val_loss: 1.1496 - val_accuracy: 0.7371\n",
            "Epoch 12/15\n",
            "40000/40000 [==============================] - 23s 579us/step - loss: 0.0891 - accuracy: 0.9695 - val_loss: 1.1132 - val_accuracy: 0.7676\n",
            "Epoch 13/15\n",
            "40000/40000 [==============================] - 23s 582us/step - loss: 0.1062 - accuracy: 0.9636 - val_loss: 1.4153 - val_accuracy: 0.7103\n",
            "Epoch 14/15\n",
            "40000/40000 [==============================] - 23s 579us/step - loss: 0.1085 - accuracy: 0.9621 - val_loss: 1.7782 - val_accuracy: 0.6733\n",
            "Epoch 15/15\n",
            "40000/40000 [==============================] - 23s 579us/step - loss: 0.0821 - accuracy: 0.9718 - val_loss: 1.2822 - val_accuracy: 0.7432\n"
          ],
          "name": "stdout"
        }
      ]
    },
    {
      "cell_type": "code",
      "metadata": {
        "id": "04NtpB2tfMcG",
        "colab": {
          "base_uri": "https://localhost:8080/",
          "height": 0
        },
        "outputId": "d9157c80-5a9a-42d4-9df9-ada91387face"
      },
      "source": [
        "# TODO - Defining dropout regularized model and training it\n",
        "def define_base_model_Dropout():\n",
        "  model = Sequential()\n",
        "  model.add(Conv2D(256, (3, 3), activation='relu',  padding='same', input_shape=(32, 32, 3)))\n",
        "  model.add(Dropout(0.2))\n",
        "  model.add(MaxPooling2D((2, 2)))\n",
        "  model.add(Conv2D(256, (3, 3), activation='relu',  padding='same'))\n",
        "  model.add(Dropout(0.2))\n",
        "  model.add(MaxPooling2D((2, 2)))\n",
        "  \n",
        "  model.add(Conv2D(256, (3, 3), activation='relu',  padding='same'))\n",
        "  model.add(Dropout(0.2))\n",
        "  model.add(MaxPooling2D((2, 2)))\n",
        "  model.add(Flatten())\n",
        "  model.add(Dense(1024, activation='relu'))\n",
        "  model.add(Dropout(0.2))\n",
        "  model.add(Dense(10, activation='softmax'))\n",
        "  return model\n",
        "\n",
        "\n",
        "adam_model_Dropout = define_base_model_Dropout()\n",
        "adam_model_Dropout.summary()\n",
        "adam_model_Dropout.compile(optimizer=Adam(learning_rate=0.001), loss='categorical_crossentropy', metrics=['accuracy'])\n",
        "\n",
        "adam_history_Dropout = adam_model_Dropout.fit(trainX, trainY, epochs=15, validation_data=(validX, validY), verbose=1)"
      ],
      "execution_count": 17,
      "outputs": [
        {
          "output_type": "stream",
          "text": [
            "Model: \"sequential_6\"\n",
            "_________________________________________________________________\n",
            "Layer (type)                 Output Shape              Param #   \n",
            "=================================================================\n",
            "conv2d_16 (Conv2D)           (None, 32, 32, 256)       7168      \n",
            "_________________________________________________________________\n",
            "dropout_1 (Dropout)          (None, 32, 32, 256)       0         \n",
            "_________________________________________________________________\n",
            "max_pooling2d_16 (MaxPooling (None, 16, 16, 256)       0         \n",
            "_________________________________________________________________\n",
            "conv2d_17 (Conv2D)           (None, 16, 16, 256)       590080    \n",
            "_________________________________________________________________\n",
            "dropout_2 (Dropout)          (None, 16, 16, 256)       0         \n",
            "_________________________________________________________________\n",
            "max_pooling2d_17 (MaxPooling (None, 8, 8, 256)         0         \n",
            "_________________________________________________________________\n",
            "conv2d_18 (Conv2D)           (None, 8, 8, 256)         590080    \n",
            "_________________________________________________________________\n",
            "dropout_3 (Dropout)          (None, 8, 8, 256)         0         \n",
            "_________________________________________________________________\n",
            "max_pooling2d_18 (MaxPooling (None, 4, 4, 256)         0         \n",
            "_________________________________________________________________\n",
            "flatten_6 (Flatten)          (None, 4096)              0         \n",
            "_________________________________________________________________\n",
            "dense_11 (Dense)             (None, 1024)              4195328   \n",
            "_________________________________________________________________\n",
            "dropout_4 (Dropout)          (None, 1024)              0         \n",
            "_________________________________________________________________\n",
            "dense_12 (Dense)             (None, 10)                10250     \n",
            "=================================================================\n",
            "Total params: 5,392,906\n",
            "Trainable params: 5,392,906\n",
            "Non-trainable params: 0\n",
            "_________________________________________________________________\n",
            "Train on 40000 samples, validate on 10000 samples\n",
            "Epoch 1/15\n",
            "40000/40000 [==============================] - 24s 591us/step - loss: 1.4806 - accuracy: 0.4614 - val_loss: 1.1666 - val_accuracy: 0.5996\n",
            "Epoch 2/15\n",
            "40000/40000 [==============================] - 23s 582us/step - loss: 1.0531 - accuracy: 0.6280 - val_loss: 1.0387 - val_accuracy: 0.6328\n",
            "Epoch 3/15\n",
            "40000/40000 [==============================] - 23s 581us/step - loss: 0.8879 - accuracy: 0.6867 - val_loss: 0.9040 - val_accuracy: 0.6916\n",
            "Epoch 4/15\n",
            "40000/40000 [==============================] - 23s 580us/step - loss: 0.7581 - accuracy: 0.7349 - val_loss: 0.8225 - val_accuracy: 0.7219\n",
            "Epoch 5/15\n",
            "40000/40000 [==============================] - 23s 578us/step - loss: 0.6536 - accuracy: 0.7697 - val_loss: 0.7791 - val_accuracy: 0.7283\n",
            "Epoch 6/15\n",
            "40000/40000 [==============================] - 23s 580us/step - loss: 0.5776 - accuracy: 0.7933 - val_loss: 0.7593 - val_accuracy: 0.7441\n",
            "Epoch 7/15\n",
            "40000/40000 [==============================] - 23s 579us/step - loss: 0.4866 - accuracy: 0.8288 - val_loss: 0.7490 - val_accuracy: 0.7458\n",
            "Epoch 8/15\n",
            "40000/40000 [==============================] - 23s 578us/step - loss: 0.4265 - accuracy: 0.8476 - val_loss: 0.7372 - val_accuracy: 0.7497\n",
            "Epoch 9/15\n",
            "40000/40000 [==============================] - 23s 579us/step - loss: 0.3764 - accuracy: 0.8676 - val_loss: 0.7476 - val_accuracy: 0.7516\n",
            "Epoch 10/15\n",
            "40000/40000 [==============================] - 23s 580us/step - loss: 0.3370 - accuracy: 0.8825 - val_loss: 0.7735 - val_accuracy: 0.7408\n",
            "Epoch 11/15\n",
            "40000/40000 [==============================] - 23s 584us/step - loss: 0.2955 - accuracy: 0.8974 - val_loss: 0.7881 - val_accuracy: 0.7448\n",
            "Epoch 12/15\n",
            "40000/40000 [==============================] - 23s 580us/step - loss: 0.2751 - accuracy: 0.9041 - val_loss: 0.8186 - val_accuracy: 0.7449\n",
            "Epoch 13/15\n",
            "40000/40000 [==============================] - 23s 581us/step - loss: 0.2463 - accuracy: 0.9155 - val_loss: 0.8241 - val_accuracy: 0.7480\n",
            "Epoch 14/15\n",
            "40000/40000 [==============================] - 23s 580us/step - loss: 0.2360 - accuracy: 0.9191 - val_loss: 0.8289 - val_accuracy: 0.7478\n",
            "Epoch 15/15\n",
            "40000/40000 [==============================] - 23s 580us/step - loss: 0.2172 - accuracy: 0.9250 - val_loss: 0.8616 - val_accuracy: 0.7536\n"
          ],
          "name": "stdout"
        }
      ]
    },
    {
      "cell_type": "code",
      "metadata": {
        "id": "FUduWXzv16rV",
        "colab": {
          "base_uri": "https://localhost:8080/",
          "height": 282
        },
        "outputId": "e9a8120f-4445-42e7-d615-2d29455d47ab"
      },
      "source": [
        "# TODO - Plotting training accuracy\n",
        "plt.plot(adam_history_BN.history['accuracy'], label='Model with BN')\n",
        "plt.plot(adam_history_Dropout.history['accuracy'], label='Model with Dropout')"
      ],
      "execution_count": 18,
      "outputs": [
        {
          "output_type": "execute_result",
          "data": {
            "text/plain": [
              "[<matplotlib.lines.Line2D at 0x7fe24b859750>]"
            ]
          },
          "metadata": {
            "tags": []
          },
          "execution_count": 18
        },
        {
          "output_type": "display_data",
          "data": {
            "image/png": "[encoded data removed]",
            "text/plain": [
              "<Figure size 432x288 with 1 Axes>"
            ]
          },
          "metadata": {
            "tags": [],
            "needs_background": "light"
          }
        }
      ]
    },
    {
      "cell_type": "markdown",
      "metadata": {
        "id": "zFURxqaLf1PQ"
      },
      "source": [
        "[TODO - Add your observations]"
      ]
    },
    {
      "cell_type": "markdown",
      "metadata": {
        "id": "J1REJkBwpEDd"
      },
      "source": [
        "# **[Task 3] Hyperparameter Tuning**\n",
        "\n",
        "The objective of this section is to perform hyperparameter tuning of the network using a grid search. Make sure to complete these steps:\n",
        "\n",
        "1. Perform a grid search for the optimal hyperparameters for the model with dropout regularization and Adam optimizer using the dropout values [0.1, 0.2, 0.3] and the learning rate values [0.1, 0.01, 0.001].\n",
        "2. Display the results for the best model on the test dataset."
      ]
    },
    {
      "cell_type": "code",
      "metadata": {
        "id": "M5HMnq-8D8l_",
        "colab": {
          "base_uri": "https://localhost:8080/",
          "height": 0
        },
        "outputId": "55302d42-0c9e-4f11-baa5-42275fd8d60a"
      },
      "source": [
        "# TODO - Defining final model for optimization\n",
        "def define_model_Dropout(d):\n",
        "  model = Sequential()\n",
        "  model.add(Conv2D(256, (3, 3), activation='relu',  padding='same', input_shape=(32, 32, 3)))\n",
        "  model.add(Dropout(d))\n",
        "  model.add(MaxPooling2D((2, 2)))\n",
        "  \n",
        "  model.add(Conv2D(256, (3, 3), activation='relu',  padding='same'))\n",
        "  model.add(Dropout(d))\n",
        "  model.add(MaxPooling2D((2, 2)))\n",
        "  \n",
        "  model.add(Conv2D(256, (3, 3), activation='relu',  padding='same'))\n",
        "  model.add(Dropout(d))\n",
        "  model.add(MaxPooling2D((2, 2)))\n",
        "  \n",
        "  model.add(Flatten())\n",
        "  model.add(Dense(1024, activation='relu'))\n",
        "  model.add(Dropout(d))\n",
        "  model.add(Dense(10, activation='softmax'))\n",
        "  \n",
        "  return model\n",
        "\n",
        "\n",
        "dropout=[0.1, 0.2, 0.3]\n",
        "lr = [0.1, 0.01, 0.001]\n",
        "\n",
        "best_dropout = 0.1\n",
        "best_lr = 0.1\n",
        "max = 0\n",
        "\n",
        "for d in dropout:\n",
        "  model = define_model_Dropout(d)\n",
        "  for l in lr:\n",
        "    model.compile(optimizer=Adam(learning_rate=0.001), loss='categorical_crossentropy', metrics=['accuracy'])\n",
        "    model_history = model.fit(trainX, trainY, epochs=15, validation_data=(validX, validY), verbose=1)\n",
        "    val_acc = model_history.history['val_accuracy']\n",
        "    if val_acc[-1] > max:\n",
        "      best_dropout = d\n",
        "      best_lr = l\n",
        "\n"
      ],
      "execution_count": 21,
      "outputs": [
        {
          "output_type": "stream",
          "text": [
            "Train on 40000 samples, validate on 10000 samples\n",
            "Epoch 1/15\n",
            "40000/40000 [==============================] - 24s 592us/step - loss: 1.4656 - accuracy: 0.4674 - val_loss: 1.1854 - val_accuracy: 0.5776\n",
            "Epoch 2/15\n",
            "40000/40000 [==============================] - 23s 582us/step - loss: 1.0276 - accuracy: 0.6345 - val_loss: 0.9366 - val_accuracy: 0.6701\n",
            "Epoch 3/15\n",
            "40000/40000 [==============================] - 23s 580us/step - loss: 0.8384 - accuracy: 0.7059 - val_loss: 0.8382 - val_accuracy: 0.7106\n",
            "Epoch 4/15\n",
            "40000/40000 [==============================] - 23s 576us/step - loss: 0.6864 - accuracy: 0.7589 - val_loss: 0.8148 - val_accuracy: 0.7124\n",
            "Epoch 5/15\n",
            "40000/40000 [==============================] - 23s 577us/step - loss: 0.5614 - accuracy: 0.8010 - val_loss: 0.7969 - val_accuracy: 0.7286\n",
            "Epoch 6/15\n",
            "40000/40000 [==============================] - 23s 580us/step - loss: 0.4554 - accuracy: 0.8404 - val_loss: 0.7931 - val_accuracy: 0.7344\n",
            "Epoch 7/15\n",
            "40000/40000 [==============================] - 23s 579us/step - loss: 0.3657 - accuracy: 0.8717 - val_loss: 0.8433 - val_accuracy: 0.7328\n",
            "Epoch 8/15\n",
            "40000/40000 [==============================] - 23s 579us/step - loss: 0.2876 - accuracy: 0.8992 - val_loss: 0.9031 - val_accuracy: 0.7349\n",
            "Epoch 9/15\n",
            "40000/40000 [==============================] - 23s 578us/step - loss: 0.2406 - accuracy: 0.9155 - val_loss: 0.9362 - val_accuracy: 0.7468\n",
            "Epoch 10/15\n",
            "40000/40000 [==============================] - 23s 583us/step - loss: 0.2100 - accuracy: 0.9261 - val_loss: 0.9783 - val_accuracy: 0.7451\n",
            "Epoch 11/15\n",
            "40000/40000 [==============================] - 23s 579us/step - loss: 0.1834 - accuracy: 0.9360 - val_loss: 1.0235 - val_accuracy: 0.7445\n",
            "Epoch 12/15\n",
            "40000/40000 [==============================] - 23s 580us/step - loss: 0.1717 - accuracy: 0.9414 - val_loss: 1.0963 - val_accuracy: 0.7334\n",
            "Epoch 13/15\n",
            "40000/40000 [==============================] - 23s 580us/step - loss: 0.1586 - accuracy: 0.9459 - val_loss: 1.1382 - val_accuracy: 0.7295\n",
            "Epoch 14/15\n",
            "40000/40000 [==============================] - 23s 581us/step - loss: 0.1578 - accuracy: 0.9465 - val_loss: 1.1465 - val_accuracy: 0.7283\n",
            "Epoch 15/15\n",
            "40000/40000 [==============================] - 23s 581us/step - loss: 0.1397 - accuracy: 0.9535 - val_loss: 1.1848 - val_accuracy: 0.7369\n",
            "Train on 40000 samples, validate on 10000 samples\n",
            "Epoch 1/15\n",
            "40000/40000 [==============================] - 24s 592us/step - loss: 0.1399 - accuracy: 0.9549 - val_loss: 1.2671 - val_accuracy: 0.7204\n",
            "Epoch 2/15\n",
            "40000/40000 [==============================] - 23s 584us/step - loss: 0.1273 - accuracy: 0.9580 - val_loss: 1.2453 - val_accuracy: 0.7350\n",
            "Epoch 3/15\n",
            "40000/40000 [==============================] - 23s 584us/step - loss: 0.1187 - accuracy: 0.9617 - val_loss: 1.2735 - val_accuracy: 0.7327\n",
            "Epoch 4/15\n",
            "40000/40000 [==============================] - 23s 584us/step - loss: 0.1263 - accuracy: 0.9591 - val_loss: 1.3603 - val_accuracy: 0.7348\n",
            "Epoch 5/15\n",
            "40000/40000 [==============================] - 23s 584us/step - loss: 0.1112 - accuracy: 0.9632 - val_loss: 1.3475 - val_accuracy: 0.7371\n",
            "Epoch 6/15\n",
            "40000/40000 [==============================] - 23s 583us/step - loss: 0.1071 - accuracy: 0.9652 - val_loss: 1.3485 - val_accuracy: 0.7348\n",
            "Epoch 7/15\n",
            "40000/40000 [==============================] - 23s 582us/step - loss: 0.1112 - accuracy: 0.9651 - val_loss: 1.3621 - val_accuracy: 0.7333\n",
            "Epoch 8/15\n",
            "40000/40000 [==============================] - 23s 586us/step - loss: 0.1123 - accuracy: 0.9647 - val_loss: 1.4682 - val_accuracy: 0.7311\n",
            "Epoch 9/15\n",
            "40000/40000 [==============================] - 23s 584us/step - loss: 0.1036 - accuracy: 0.9675 - val_loss: 1.4492 - val_accuracy: 0.7344\n",
            "Epoch 10/15\n",
            "40000/40000 [==============================] - 23s 583us/step - loss: 0.1119 - accuracy: 0.9647 - val_loss: 1.4924 - val_accuracy: 0.7357\n",
            "Epoch 11/15\n",
            "40000/40000 [==============================] - 23s 582us/step - loss: 0.0999 - accuracy: 0.9694 - val_loss: 1.5581 - val_accuracy: 0.7312\n",
            "Epoch 12/15\n",
            "40000/40000 [==============================] - 23s 584us/step - loss: 0.1065 - accuracy: 0.9674 - val_loss: 1.4737 - val_accuracy: 0.7306\n",
            "Epoch 13/15\n",
            "40000/40000 [==============================] - 23s 585us/step - loss: 0.0984 - accuracy: 0.9699 - val_loss: 1.5077 - val_accuracy: 0.7325\n",
            "Epoch 14/15\n",
            "40000/40000 [==============================] - 23s 584us/step - loss: 0.1001 - accuracy: 0.9694 - val_loss: 1.5791 - val_accuracy: 0.7316\n",
            "Epoch 15/15\n",
            "40000/40000 [==============================] - 23s 584us/step - loss: 0.0880 - accuracy: 0.9732 - val_loss: 1.5398 - val_accuracy: 0.7291\n",
            "Train on 40000 samples, validate on 10000 samples\n",
            "Epoch 1/15\n",
            "40000/40000 [==============================] - 24s 595us/step - loss: 0.1084 - accuracy: 0.9684 - val_loss: 1.6712 - val_accuracy: 0.7336\n",
            "Epoch 2/15\n",
            "40000/40000 [==============================] - 23s 586us/step - loss: 0.0875 - accuracy: 0.9736 - val_loss: 1.6463 - val_accuracy: 0.7340\n",
            "Epoch 3/15\n",
            "40000/40000 [==============================] - 23s 586us/step - loss: 0.1015 - accuracy: 0.9698 - val_loss: 1.7263 - val_accuracy: 0.7292\n",
            "Epoch 4/15\n",
            "40000/40000 [==============================] - 23s 586us/step - loss: 0.0895 - accuracy: 0.9736 - val_loss: 1.7069 - val_accuracy: 0.7236\n",
            "Epoch 5/15\n",
            "40000/40000 [==============================] - 24s 588us/step - loss: 0.0955 - accuracy: 0.9723 - val_loss: 1.5822 - val_accuracy: 0.7309\n",
            "Epoch 6/15\n",
            "40000/40000 [==============================] - 24s 588us/step - loss: 0.0866 - accuracy: 0.9740 - val_loss: 1.8132 - val_accuracy: 0.7261\n",
            "Epoch 7/15\n",
            "40000/40000 [==============================] - 24s 588us/step - loss: 0.0864 - accuracy: 0.9748 - val_loss: 1.7334 - val_accuracy: 0.7334\n",
            "Epoch 8/15\n",
            "40000/40000 [==============================] - 23s 584us/step - loss: 0.0900 - accuracy: 0.9743 - val_loss: 1.7469 - val_accuracy: 0.7352\n",
            "Epoch 9/15\n",
            "40000/40000 [==============================] - 23s 586us/step - loss: 0.0862 - accuracy: 0.9750 - val_loss: 1.7419 - val_accuracy: 0.7253\n",
            "Epoch 10/15\n",
            "40000/40000 [==============================] - 23s 586us/step - loss: 0.0819 - accuracy: 0.9759 - val_loss: 1.7431 - val_accuracy: 0.7393\n",
            "Epoch 11/15\n",
            "40000/40000 [==============================] - 23s 586us/step - loss: 0.0798 - accuracy: 0.9764 - val_loss: 1.9061 - val_accuracy: 0.7301\n",
            "Epoch 12/15\n",
            "40000/40000 [==============================] - 23s 587us/step - loss: 0.0928 - accuracy: 0.9753 - val_loss: 1.7534 - val_accuracy: 0.7379\n",
            "Epoch 13/15\n",
            "40000/40000 [==============================] - 23s 585us/step - loss: 0.0908 - accuracy: 0.9744 - val_loss: 1.7504 - val_accuracy: 0.7371\n",
            "Epoch 14/15\n",
            "40000/40000 [==============================] - 24s 588us/step - loss: 0.0826 - accuracy: 0.9770 - val_loss: 1.9025 - val_accuracy: 0.7344\n",
            "Epoch 15/15\n",
            "40000/40000 [==============================] - 24s 590us/step - loss: 0.0811 - accuracy: 0.9773 - val_loss: 1.9478 - val_accuracy: 0.7316\n",
            "Train on 40000 samples, validate on 10000 samples\n",
            "Epoch 1/15\n",
            "40000/40000 [==============================] - 24s 604us/step - loss: 1.4614 - accuracy: 0.4654 - val_loss: 1.2007 - val_accuracy: 0.5971\n",
            "Epoch 2/15\n",
            "40000/40000 [==============================] - 24s 590us/step - loss: 1.0476 - accuracy: 0.6270 - val_loss: 1.0299 - val_accuracy: 0.6535\n",
            "Epoch 3/15\n",
            "40000/40000 [==============================] - 23s 586us/step - loss: 0.8710 - accuracy: 0.6932 - val_loss: 0.8849 - val_accuracy: 0.7025\n",
            "Epoch 4/15\n",
            "40000/40000 [==============================] - 24s 588us/step - loss: 0.7407 - accuracy: 0.7401 - val_loss: 0.8304 - val_accuracy: 0.7217\n",
            "Epoch 5/15\n",
            "40000/40000 [==============================] - 24s 589us/step - loss: 0.6426 - accuracy: 0.7748 - val_loss: 0.8101 - val_accuracy: 0.7261\n",
            "Epoch 6/15\n",
            "40000/40000 [==============================] - 24s 588us/step - loss: 0.5614 - accuracy: 0.8019 - val_loss: 0.7709 - val_accuracy: 0.7333\n",
            "Epoch 7/15\n",
            "40000/40000 [==============================] - 23s 587us/step - loss: 0.4810 - accuracy: 0.8321 - val_loss: 0.7396 - val_accuracy: 0.7464\n",
            "Epoch 8/15\n",
            "40000/40000 [==============================] - 23s 587us/step - loss: 0.4250 - accuracy: 0.8484 - val_loss: 0.8030 - val_accuracy: 0.7349\n",
            "Epoch 9/15\n",
            "40000/40000 [==============================] - 24s 592us/step - loss: 0.3702 - accuracy: 0.8691 - val_loss: 0.7277 - val_accuracy: 0.7566\n",
            "Epoch 10/15\n",
            "40000/40000 [==============================] - 24s 598us/step - loss: 0.3356 - accuracy: 0.8807 - val_loss: 0.7781 - val_accuracy: 0.7467\n",
            "Epoch 11/15\n",
            "40000/40000 [==============================] - 24s 593us/step - loss: 0.3045 - accuracy: 0.8940 - val_loss: 0.8498 - val_accuracy: 0.7327\n",
            "Epoch 12/15\n",
            "40000/40000 [==============================] - 24s 592us/step - loss: 0.2789 - accuracy: 0.9025 - val_loss: 0.7973 - val_accuracy: 0.7488\n",
            "Epoch 13/15\n",
            "40000/40000 [==============================] - 24s 594us/step - loss: 0.2585 - accuracy: 0.9093 - val_loss: 0.7834 - val_accuracy: 0.7492\n",
            "Epoch 14/15\n",
            "40000/40000 [==============================] - 24s 593us/step - loss: 0.2445 - accuracy: 0.9160 - val_loss: 0.8099 - val_accuracy: 0.7528\n",
            "Epoch 15/15\n",
            "40000/40000 [==============================] - 24s 592us/step - loss: 0.2265 - accuracy: 0.9237 - val_loss: 0.8776 - val_accuracy: 0.7483\n",
            "Train on 40000 samples, validate on 10000 samples\n",
            "Epoch 1/15\n",
            "40000/40000 [==============================] - 24s 603us/step - loss: 0.2367 - accuracy: 0.9211 - val_loss: 0.8602 - val_accuracy: 0.7470\n",
            "Epoch 2/15\n",
            "40000/40000 [==============================] - 24s 591us/step - loss: 0.1993 - accuracy: 0.9331 - val_loss: 0.8579 - val_accuracy: 0.7457\n",
            "Epoch 3/15\n",
            "40000/40000 [==============================] - 24s 597us/step - loss: 0.1973 - accuracy: 0.9323 - val_loss: 0.9470 - val_accuracy: 0.7404\n",
            "Epoch 4/15\n",
            "40000/40000 [==============================] - 24s 588us/step - loss: 0.1898 - accuracy: 0.9370 - val_loss: 0.8812 - val_accuracy: 0.7558\n",
            "Epoch 5/15\n",
            "40000/40000 [==============================] - 24s 588us/step - loss: 0.1886 - accuracy: 0.9365 - val_loss: 0.9217 - val_accuracy: 0.7435\n",
            "Epoch 6/15\n",
            "40000/40000 [==============================] - 24s 589us/step - loss: 0.1857 - accuracy: 0.9389 - val_loss: 0.9262 - val_accuracy: 0.7503\n",
            "Epoch 7/15\n",
            "40000/40000 [==============================] - 24s 589us/step - loss: 0.1693 - accuracy: 0.9440 - val_loss: 0.9630 - val_accuracy: 0.7432\n",
            "Epoch 8/15\n",
            "40000/40000 [==============================] - 23s 587us/step - loss: 0.1810 - accuracy: 0.9403 - val_loss: 0.9015 - val_accuracy: 0.7511\n",
            "Epoch 9/15\n",
            "40000/40000 [==============================] - 24s 591us/step - loss: 0.1677 - accuracy: 0.9449 - val_loss: 0.9359 - val_accuracy: 0.7525\n",
            "Epoch 10/15\n",
            "40000/40000 [==============================] - 23s 587us/step - loss: 0.1661 - accuracy: 0.9451 - val_loss: 0.9387 - val_accuracy: 0.7515\n",
            "Epoch 11/15\n",
            "40000/40000 [==============================] - 23s 587us/step - loss: 0.1677 - accuracy: 0.9461 - val_loss: 0.9841 - val_accuracy: 0.7385\n",
            "Epoch 12/15\n",
            "40000/40000 [==============================] - 24s 589us/step - loss: 0.1564 - accuracy: 0.9493 - val_loss: 1.0322 - val_accuracy: 0.7424\n",
            "Epoch 13/15\n",
            "40000/40000 [==============================] - 24s 590us/step - loss: 0.1566 - accuracy: 0.9500 - val_loss: 1.0145 - val_accuracy: 0.7421\n",
            "Epoch 14/15\n",
            "40000/40000 [==============================] - 23s 587us/step - loss: 0.1615 - accuracy: 0.9496 - val_loss: 1.0079 - val_accuracy: 0.7481\n",
            "Epoch 15/15\n",
            "40000/40000 [==============================] - 24s 589us/step - loss: 0.1539 - accuracy: 0.9516 - val_loss: 1.0090 - val_accuracy: 0.7512\n",
            "Train on 40000 samples, validate on 10000 samples\n",
            "Epoch 1/15\n",
            "40000/40000 [==============================] - 24s 609us/step - loss: 0.1685 - accuracy: 0.9488 - val_loss: 1.0607 - val_accuracy: 0.7464\n",
            "Epoch 2/15\n",
            "40000/40000 [==============================] - 24s 592us/step - loss: 0.1453 - accuracy: 0.9555 - val_loss: 1.0964 - val_accuracy: 0.7527\n",
            "Epoch 3/15\n",
            "40000/40000 [==============================] - 24s 591us/step - loss: 0.1515 - accuracy: 0.9533 - val_loss: 1.0672 - val_accuracy: 0.7515\n",
            "Epoch 4/15\n",
            "40000/40000 [==============================] - 24s 591us/step - loss: 0.1499 - accuracy: 0.9538 - val_loss: 1.0329 - val_accuracy: 0.7512\n",
            "Epoch 5/15\n",
            "40000/40000 [==============================] - 24s 594us/step - loss: 0.1449 - accuracy: 0.9566 - val_loss: 1.1156 - val_accuracy: 0.7402\n",
            "Epoch 6/15\n",
            "40000/40000 [==============================] - 24s 592us/step - loss: 0.1469 - accuracy: 0.9559 - val_loss: 1.1073 - val_accuracy: 0.7377\n",
            "Epoch 7/15\n",
            "40000/40000 [==============================] - 24s 591us/step - loss: 0.1346 - accuracy: 0.9575 - val_loss: 1.1894 - val_accuracy: 0.7355\n",
            "Epoch 8/15\n",
            "40000/40000 [==============================] - 24s 592us/step - loss: 0.1404 - accuracy: 0.9574 - val_loss: 1.0925 - val_accuracy: 0.7500\n",
            "Epoch 9/15\n",
            "40000/40000 [==============================] - 24s 590us/step - loss: 0.1351 - accuracy: 0.9587 - val_loss: 1.1600 - val_accuracy: 0.7475\n",
            "Epoch 10/15\n",
            "40000/40000 [==============================] - 24s 591us/step - loss: 0.1441 - accuracy: 0.9568 - val_loss: 1.2085 - val_accuracy: 0.7361\n",
            "Epoch 11/15\n",
            "40000/40000 [==============================] - 24s 592us/step - loss: 0.1387 - accuracy: 0.9595 - val_loss: 1.1523 - val_accuracy: 0.7438\n",
            "Epoch 12/15\n",
            "40000/40000 [==============================] - 24s 591us/step - loss: 0.1339 - accuracy: 0.9603 - val_loss: 1.2229 - val_accuracy: 0.7394\n",
            "Epoch 13/15\n",
            "40000/40000 [==============================] - 24s 591us/step - loss: 0.1349 - accuracy: 0.9596 - val_loss: 1.1520 - val_accuracy: 0.7464\n",
            "Epoch 14/15\n",
            "40000/40000 [==============================] - 24s 596us/step - loss: 0.1342 - accuracy: 0.9606 - val_loss: 1.1472 - val_accuracy: 0.7407\n",
            "Epoch 15/15\n",
            "40000/40000 [==============================] - 24s 592us/step - loss: 0.1325 - accuracy: 0.9611 - val_loss: 1.1041 - val_accuracy: 0.7509\n",
            "Train on 40000 samples, validate on 10000 samples\n",
            "Epoch 1/15\n",
            "40000/40000 [==============================] - 24s 610us/step - loss: 1.5181 - accuracy: 0.4473 - val_loss: 1.4013 - val_accuracy: 0.5259\n",
            "Epoch 2/15\n",
            "40000/40000 [==============================] - 24s 595us/step - loss: 1.1186 - accuracy: 0.6003 - val_loss: 1.1589 - val_accuracy: 0.6059\n",
            "Epoch 3/15\n",
            "40000/40000 [==============================] - 24s 598us/step - loss: 0.9562 - accuracy: 0.6597 - val_loss: 1.0298 - val_accuracy: 0.6726\n",
            "Epoch 4/15\n",
            "40000/40000 [==============================] - 24s 594us/step - loss: 0.8517 - accuracy: 0.6992 - val_loss: 0.9866 - val_accuracy: 0.6579\n",
            "Epoch 5/15\n",
            "40000/40000 [==============================] - 24s 594us/step - loss: 0.7624 - accuracy: 0.7337 - val_loss: 0.8699 - val_accuracy: 0.7111\n",
            "Epoch 6/15\n",
            "40000/40000 [==============================] - 24s 595us/step - loss: 0.6983 - accuracy: 0.7556 - val_loss: 0.8873 - val_accuracy: 0.6967\n",
            "Epoch 7/15\n",
            "40000/40000 [==============================] - 24s 595us/step - loss: 0.6403 - accuracy: 0.7740 - val_loss: 0.8394 - val_accuracy: 0.7150\n",
            "Epoch 8/15\n",
            "40000/40000 [==============================] - 24s 596us/step - loss: 0.5944 - accuracy: 0.7888 - val_loss: 0.8455 - val_accuracy: 0.7095\n",
            "Epoch 9/15\n",
            "40000/40000 [==============================] - 24s 595us/step - loss: 0.5543 - accuracy: 0.8049 - val_loss: 0.8405 - val_accuracy: 0.7128\n",
            "Epoch 10/15\n",
            "40000/40000 [==============================] - 24s 595us/step - loss: 0.5109 - accuracy: 0.8194 - val_loss: 0.8462 - val_accuracy: 0.7045\n",
            "Epoch 11/15\n",
            "40000/40000 [==============================] - 24s 596us/step - loss: 0.4763 - accuracy: 0.8326 - val_loss: 0.8216 - val_accuracy: 0.7204\n",
            "Epoch 12/15\n",
            "40000/40000 [==============================] - 24s 598us/step - loss: 0.4537 - accuracy: 0.8408 - val_loss: 0.8558 - val_accuracy: 0.7109\n",
            "Epoch 13/15\n",
            "40000/40000 [==============================] - 24s 594us/step - loss: 0.4333 - accuracy: 0.8482 - val_loss: 0.8015 - val_accuracy: 0.7262\n",
            "Epoch 14/15\n",
            "40000/40000 [==============================] - 24s 595us/step - loss: 0.4033 - accuracy: 0.8586 - val_loss: 0.7821 - val_accuracy: 0.7323\n",
            "Epoch 15/15\n",
            "40000/40000 [==============================] - 24s 595us/step - loss: 0.3831 - accuracy: 0.8667 - val_loss: 0.9058 - val_accuracy: 0.7006\n",
            "Train on 40000 samples, validate on 10000 samples\n",
            "Epoch 1/15\n",
            "40000/40000 [==============================] - 25s 613us/step - loss: 0.3796 - accuracy: 0.8691 - val_loss: 0.7932 - val_accuracy: 0.7331\n",
            "Epoch 2/15\n",
            "40000/40000 [==============================] - 24s 598us/step - loss: 0.3623 - accuracy: 0.8750 - val_loss: 0.8268 - val_accuracy: 0.7246\n",
            "Epoch 3/15\n",
            "40000/40000 [==============================] - 24s 596us/step - loss: 0.3523 - accuracy: 0.8784 - val_loss: 0.8823 - val_accuracy: 0.7145\n",
            "Epoch 4/15\n",
            "40000/40000 [==============================] - 24s 598us/step - loss: 0.3273 - accuracy: 0.8874 - val_loss: 0.8486 - val_accuracy: 0.7237\n",
            "Epoch 5/15\n",
            "40000/40000 [==============================] - 24s 596us/step - loss: 0.3328 - accuracy: 0.8860 - val_loss: 0.8049 - val_accuracy: 0.7324\n",
            "Epoch 6/15\n",
            "40000/40000 [==============================] - 24s 597us/step - loss: 0.3169 - accuracy: 0.8928 - val_loss: 0.7999 - val_accuracy: 0.7318\n",
            "Epoch 7/15\n",
            "40000/40000 [==============================] - 24s 597us/step - loss: 0.3067 - accuracy: 0.8967 - val_loss: 1.0432 - val_accuracy: 0.6937\n",
            "Epoch 8/15\n",
            "40000/40000 [==============================] - 24s 597us/step - loss: 0.3027 - accuracy: 0.8971 - val_loss: 0.8491 - val_accuracy: 0.7303\n",
            "Epoch 9/15\n",
            "40000/40000 [==============================] - 24s 596us/step - loss: 0.2859 - accuracy: 0.9014 - val_loss: 0.8845 - val_accuracy: 0.7236\n",
            "Epoch 10/15\n",
            "40000/40000 [==============================] - 24s 600us/step - loss: 0.2851 - accuracy: 0.9043 - val_loss: 0.9691 - val_accuracy: 0.7025\n",
            "Epoch 11/15\n",
            "40000/40000 [==============================] - 24s 596us/step - loss: 0.2913 - accuracy: 0.9009 - val_loss: 0.7774 - val_accuracy: 0.7514\n",
            "Epoch 12/15\n",
            "40000/40000 [==============================] - 24s 597us/step - loss: 0.2738 - accuracy: 0.9058 - val_loss: 0.8882 - val_accuracy: 0.7239\n",
            "Epoch 13/15\n",
            "40000/40000 [==============================] - 24s 599us/step - loss: 0.2781 - accuracy: 0.9056 - val_loss: 0.7778 - val_accuracy: 0.7434\n",
            "Epoch 14/15\n",
            "40000/40000 [==============================] - 24s 598us/step - loss: 0.2765 - accuracy: 0.9079 - val_loss: 0.8874 - val_accuracy: 0.7230\n",
            "Epoch 15/15\n",
            "40000/40000 [==============================] - 24s 594us/step - loss: 0.2653 - accuracy: 0.9123 - val_loss: 0.8397 - val_accuracy: 0.7319\n",
            "Train on 40000 samples, validate on 10000 samples\n",
            "Epoch 1/15\n",
            "40000/40000 [==============================] - 25s 616us/step - loss: 0.2761 - accuracy: 0.9099 - val_loss: 0.9306 - val_accuracy: 0.7179\n",
            "Epoch 2/15\n",
            "40000/40000 [==============================] - 24s 599us/step - loss: 0.2658 - accuracy: 0.9137 - val_loss: 0.7880 - val_accuracy: 0.7456\n",
            "Epoch 3/15\n",
            "40000/40000 [==============================] - 24s 599us/step - loss: 0.2662 - accuracy: 0.9123 - val_loss: 0.8520 - val_accuracy: 0.7362\n",
            "Epoch 4/15\n",
            "40000/40000 [==============================] - 24s 598us/step - loss: 0.2548 - accuracy: 0.9167 - val_loss: 0.9916 - val_accuracy: 0.7087\n",
            "Epoch 5/15\n",
            "40000/40000 [==============================] - 24s 601us/step - loss: 0.2574 - accuracy: 0.9158 - val_loss: 0.9303 - val_accuracy: 0.7180\n",
            "Epoch 6/15\n",
            "40000/40000 [==============================] - 24s 598us/step - loss: 0.2549 - accuracy: 0.9153 - val_loss: 0.8691 - val_accuracy: 0.7352\n",
            "Epoch 7/15\n",
            "40000/40000 [==============================] - 24s 600us/step - loss: 0.2524 - accuracy: 0.9191 - val_loss: 0.9117 - val_accuracy: 0.7225\n",
            "Epoch 8/15\n",
            "40000/40000 [==============================] - 24s 600us/step - loss: 0.2417 - accuracy: 0.9216 - val_loss: 0.8494 - val_accuracy: 0.7444\n",
            "Epoch 9/15\n",
            "40000/40000 [==============================] - 24s 599us/step - loss: 0.2476 - accuracy: 0.9207 - val_loss: 0.8930 - val_accuracy: 0.7264\n",
            "Epoch 10/15\n",
            "40000/40000 [==============================] - 24s 599us/step - loss: 0.2442 - accuracy: 0.9199 - val_loss: 0.9032 - val_accuracy: 0.7371\n",
            "Epoch 11/15\n",
            "40000/40000 [==============================] - 24s 601us/step - loss: 0.2451 - accuracy: 0.9200 - val_loss: 0.8822 - val_accuracy: 0.7333\n",
            "Epoch 12/15\n",
            "40000/40000 [==============================] - 24s 598us/step - loss: 0.2356 - accuracy: 0.9228 - val_loss: 0.9294 - val_accuracy: 0.7296\n",
            "Epoch 13/15\n",
            "40000/40000 [==============================] - 24s 598us/step - loss: 0.2343 - accuracy: 0.9267 - val_loss: 0.8888 - val_accuracy: 0.7301\n",
            "Epoch 14/15\n",
            "40000/40000 [==============================] - 24s 599us/step - loss: 0.2311 - accuracy: 0.9268 - val_loss: 1.0543 - val_accuracy: 0.7169\n",
            "Epoch 15/15\n",
            "40000/40000 [==============================] - 24s 600us/step - loss: 0.2324 - accuracy: 0.9268 - val_loss: 0.9303 - val_accuracy: 0.7331\n"
          ],
          "name": "stdout"
        }
      ]
    },
    {
      "cell_type": "code",
      "metadata": {
        "id": "EGltGG4Ayj17",
        "colab": {
          "base_uri": "https://localhost:8080/"
        },
        "outputId": "875c859e-324c-481b-9dc4-67fbb2fdfd80"
      },
      "source": [
        "# TODO - Displaying best parameters found\n",
        "print(\"Best parameters are-> Dropout: \", best_dropout, \" Learning rate: \", best_lr)"
      ],
      "execution_count": 24,
      "outputs": [
        {
          "output_type": "stream",
          "text": [
            "Best parameters are-> Dropout:  0.3  Learning rate:  0.001\n"
          ],
          "name": "stdout"
        }
      ]
    },
    {
      "cell_type": "code",
      "metadata": {
        "colab": {
          "base_uri": "https://localhost:8080/",
          "height": 0
        },
        "id": "E2zHNJvNmxaE",
        "outputId": "64d8529e-689d-49f5-af41-d7b61080ff7b"
      },
      "source": [
        "final_model = model = define_model_Dropout(best_dropout)\n",
        "final_model.compile(optimizer=Adam(learning_rate=best_lr), loss='categorical_crossentropy', metrics=['accuracy'])\n",
        "final_model_history = final_model.fit(trainX, trainY, epochs=15, validation_data=(validX, validY), verbose=1)\n",
        "result = final_model.evaluate(testX, testY)\n",
        "\n",
        "print(result)"
      ],
      "execution_count": 23,
      "outputs": [
        {
          "output_type": "stream",
          "text": [
            "Train on 40000 samples, validate on 10000 samples\n",
            "Epoch 1/15\n",
            "40000/40000 [==============================] - 24s 611us/step - loss: 1.5061 - accuracy: 0.4547 - val_loss: 1.3001 - val_accuracy: 0.5684\n",
            "Epoch 2/15\n",
            "40000/40000 [==============================] - 24s 592us/step - loss: 1.1035 - accuracy: 0.6101 - val_loss: 1.1145 - val_accuracy: 0.6304\n",
            "Epoch 3/15\n",
            "40000/40000 [==============================] - 24s 590us/step - loss: 0.9188 - accuracy: 0.6780 - val_loss: 0.9734 - val_accuracy: 0.6784\n",
            "Epoch 4/15\n",
            "40000/40000 [==============================] - 24s 591us/step - loss: 0.8191 - accuracy: 0.7124 - val_loss: 0.8832 - val_accuracy: 0.7231\n",
            "Epoch 5/15\n",
            "40000/40000 [==============================] - 24s 591us/step - loss: 0.7273 - accuracy: 0.7451 - val_loss: 0.8218 - val_accuracy: 0.7356\n",
            "Epoch 6/15\n",
            "40000/40000 [==============================] - 24s 591us/step - loss: 0.6564 - accuracy: 0.7663 - val_loss: 0.7895 - val_accuracy: 0.7456\n",
            "Epoch 7/15\n",
            "40000/40000 [==============================] - 24s 591us/step - loss: 0.5955 - accuracy: 0.7897 - val_loss: 0.7967 - val_accuracy: 0.7308\n",
            "Epoch 8/15\n",
            "40000/40000 [==============================] - 24s 592us/step - loss: 0.5398 - accuracy: 0.8096 - val_loss: 0.8335 - val_accuracy: 0.7193\n",
            "Epoch 9/15\n",
            "40000/40000 [==============================] - 24s 592us/step - loss: 0.5067 - accuracy: 0.8216 - val_loss: 0.7238 - val_accuracy: 0.7593\n",
            "Epoch 10/15\n",
            "40000/40000 [==============================] - 24s 593us/step - loss: 0.4638 - accuracy: 0.8385 - val_loss: 0.8006 - val_accuracy: 0.7222\n",
            "Epoch 11/15\n",
            "40000/40000 [==============================] - 24s 591us/step - loss: 0.4318 - accuracy: 0.8479 - val_loss: 0.7340 - val_accuracy: 0.7527\n",
            "Epoch 12/15\n",
            "40000/40000 [==============================] - 24s 592us/step - loss: 0.4033 - accuracy: 0.8587 - val_loss: 0.7732 - val_accuracy: 0.7386\n",
            "Epoch 13/15\n",
            "40000/40000 [==============================] - 24s 595us/step - loss: 0.3886 - accuracy: 0.8644 - val_loss: 0.7651 - val_accuracy: 0.7425\n",
            "Epoch 14/15\n",
            "40000/40000 [==============================] - 24s 593us/step - loss: 0.3602 - accuracy: 0.8728 - val_loss: 0.7955 - val_accuracy: 0.7362\n",
            "Epoch 15/15\n",
            "40000/40000 [==============================] - 24s 593us/step - loss: 0.3466 - accuracy: 0.8779 - val_loss: 0.7444 - val_accuracy: 0.7528\n",
            "10000/10000 [==============================] - 2s 161us/step\n",
            "[0.7611205979347229, 0.7433000206947327]\n"
          ],
          "name": "stdout"
        }
      ]
    }
  ]
}